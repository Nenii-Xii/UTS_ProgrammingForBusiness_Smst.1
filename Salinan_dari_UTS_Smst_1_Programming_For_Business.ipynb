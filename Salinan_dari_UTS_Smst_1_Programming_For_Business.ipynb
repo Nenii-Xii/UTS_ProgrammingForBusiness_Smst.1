{
  "nbformat": 4,
  "nbformat_minor": 0,
  "metadata": {
    "colab": {
      "provenance": [],
      "mount_file_id": "1J7HGSYqqiKRG_fmChkp6zTce1OaHMwFJ",
      "authorship_tag": "ABX9TyNXacWmpibvBB5LToTC0evV",
      "include_colab_link": true
    },
    "kernelspec": {
      "name": "python3",
      "display_name": "Python 3"
    },
    "language_info": {
      "name": "python"
    }
  },
  "cells": [
    {
      "cell_type": "markdown",
      "metadata": {
        "id": "view-in-github",
        "colab_type": "text"
      },
      "source": [
        "<a href=\"https://colab.research.google.com/github/Nenii-Xii/UTS_ProgrammingForBusiness_Smst.1/blob/main/Salinan_dari_UTS_Smst_1_Programming_For_Business.ipynb\" target=\"_parent\"><img src=\"https://colab.research.google.com/assets/colab-badge.svg\" alt=\"Open In Colab\"/></a>"
      ]
    },
    {
      "cell_type": "code",
      "source": [
        "matrix = []\n",
        "for i"
      ],
      "metadata": {
        "colab": {
          "base_uri": "https://localhost:8080/"
        },
        "id": "iqjdcSGOXpij",
        "outputId": "de0c53b4-8380-4e4a-b265-7aaf1e448c82"
      },
      "execution_count": null,
      "outputs": [
        {
          "output_type": "execute_result",
          "data": {
            "text/plain": [
              "True"
            ]
          },
          "metadata": {},
          "execution_count": 17
        }
      ]
    },
    {
      "cell_type": "code",
      "source": [],
      "metadata": {
        "id": "7I5ZgYxOXxQU"
      },
      "execution_count": null,
      "outputs": []
    },
    {
      "cell_type": "code",
      "source": [
        "data = [5,2,4,5,8,9,10]\n",
        "sorted_data = sorted(data)\n",
        "print(\"Ascending: \", sorted_data)\n",
        "\n",
        "sorted_desc = sorted(data, reverse=True)\n",
        "print(\"Descending: \", sorted_desc)"
      ],
      "metadata": {
        "id": "nnhAlJRXTUPc",
        "colab": {
          "base_uri": "https://localhost:8080/"
        },
        "outputId": "4ef0ec8d-be2d-43cc-b1c7-6829caf4e4cd"
      },
      "execution_count": null,
      "outputs": [
        {
          "output_type": "stream",
          "name": "stdout",
          "text": [
            "Ascending:  [2, 4, 5, 5, 8, 9, 10]\n",
            "Descending:  [10, 9, 8, 5, 5, 4, 2]\n"
          ]
        }
      ]
    },
    {
      "cell_type": "code",
      "source": [
        "#Soal 1: Program Informasi Bisnis\n",
        "\n",
        "nama_perusahaan = \"PT. Yifang Eco Vehicle\"\n",
        "alamat = \"Jl. Unggul Pasir Bolang Kawasan industri Cidurian Ds.Sentul Kec. Balaraja Kab. Tangerang\"\n",
        "nomor_telepon = \"0881-0267-5148\"\n",
        "jenis_usaha = \"industri manufaktur\"\n",
        "\n",
        "print (\"Nama Perusahaan :\", nama_perusahaan)\n",
        "print (\"Alamat :\", alamat)\n",
        "print (\"Nomor Telepon :\", nomor_telepon)\n",
        "print (\"Jenis Usaha :\", jenis_usaha)"
      ],
      "metadata": {
        "colab": {
          "base_uri": "https://localhost:8080/"
        },
        "id": "qXY9G5pkhp0o",
        "outputId": "c736f2de-c7d0-418d-9140-b07717f6b047"
      },
      "execution_count": null,
      "outputs": [
        {
          "output_type": "stream",
          "name": "stdout",
          "text": [
            "Nama Perusahaan : PT. Yifang Eco Vehicle\n",
            "Alamat : Jl. Unggul Pasir Bolang Kawasan industri Cidurian Ds.Sentul Kec. Balaraja Kab. Tangerang\n",
            "Nomor Telepon : 0881-0267-5148\n",
            "Jenis Usaha : industri manufaktur\n"
          ]
        }
      ]
    },
    {
      "cell_type": "code",
      "source": [
        "#Soal 13: Fungsi Hitung Total\n",
        "def hitung_total(harga, jumlah):\n",
        "  total = harga * jumlah\n",
        "  return total\n",
        "\n",
        "harga = int(input(\"Masukkan harga barang: \"))\n",
        "jumlah = int(input(\"Masukkan jumlah barang: \"))\n",
        "total_harga = hitung_total(harga, jumlah)\n",
        "print(\"Total harga: Rp\", total_harga)\n",
        "#"
      ],
      "metadata": {
        "colab": {
          "base_uri": "https://localhost:8080/"
        },
        "id": "pnZsW78_-efQ",
        "outputId": "8c74b394-7351-4fae-b104-bc031aa415b7"
      },
      "execution_count": null,
      "outputs": [
        {
          "output_type": "stream",
          "name": "stdout",
          "text": [
            "Masukkan harga barang: 32000\n",
            "Masukkan jumlah barang: 6\n",
            "Total harga: Rp 192000\n"
          ]
        }
      ]
    },
    {
      "cell_type": "code",
      "source": [
        "#Soal 12: Biaya Ongkir\n",
        "\n",
        "berat_barang = float(input(\"Masukkan berat barang (kg:) \"))\n",
        "biaya_ongkir = 0\n",
        "\n",
        "if berat_barang <= 5:\n",
        "  biaya_ongkir = 20000\n",
        "else:\n",
        "  biaya_ongkir = 20000 + (berat_barang - 5) * 5000\n",
        "\n",
        "print(\"Biaya ongkir: Rp\", biaya_ongkir)"
      ],
      "metadata": {
        "colab": {
          "base_uri": "https://localhost:8080/"
        },
        "id": "0zaVKRqw_UZm",
        "outputId": "49b3d43d-da02-4f1c-c78a-e64ac41eeab5"
      },
      "execution_count": null,
      "outputs": [
        {
          "output_type": "stream",
          "name": "stdout",
          "text": [
            "Masukkan berat barang (kg:) 8\n",
            "Biaya ongkir: Rp 35000.0\n"
          ]
        }
      ]
    },
    {
      "cell_type": "code",
      "source": [
        "#Soal 11: Sistem Parkir\n",
        "\n",
        "jenis_kendaraan = input(\"Masukkan jenis kendaraan (motor/mobil): \")\n",
        "biaya_parkir = 0\n",
        "if jenis_kendaraan == \"motor\":\n",
        "  biaya_parkir = 5000\n",
        "elif jenis_kendaraan == \"mobil\":\n",
        "  biaya_parkir = 10000\n",
        "else:\n",
        "  print(\"Jenis kendaraan tidak valid\")\n",
        "\n",
        "print(\"Biaya parkir:\", biaya_parkir)"
      ],
      "metadata": {
        "colab": {
          "base_uri": "https://localhost:8080/"
        },
        "id": "bzNNNyDfA1LH",
        "outputId": "12aab8d3-a0ab-46ea-d181-77e877249e28"
      },
      "execution_count": null,
      "outputs": [
        {
          "output_type": "stream",
          "name": "stdout",
          "text": [
            "Masukkan jenis kendaraan (motor/mobil): mobil\n",
            "Biaya parkir: 10000\n"
          ]
        }
      ]
    },
    {
      "cell_type": "code",
      "source": [
        "#Soal 9: Diskon Belanja\n",
        "\n",
        "total_belanja = float(input(\"Masukkan total belanja: \"))\n",
        "if total_belanja > 100000:\n",
        "  total_harga_diskon = total_belanja - (0.10 * total_belanja)\n",
        "else:\n",
        "  total_harga_diskon = total_belanja\n",
        "  print(\"Total harga setelah diskon: Rp\", total_harga_diskon)"
      ],
      "metadata": {
        "colab": {
          "base_uri": "https://localhost:8080/"
        },
        "id": "YBg6URIlDIaq",
        "outputId": "4d43d1b2-961c-40b5-8e49-4d63e611d5da"
      },
      "execution_count": null,
      "outputs": [
        {
          "name": "stdout",
          "output_type": "stream",
          "text": [
            "Masukkan total belanja: 200000\n"
          ]
        }
      ]
    },
    {
      "cell_type": "code",
      "source": [
        "#Soal 6: Total Belanja Pelanggan\n",
        "\n",
        "jumlah1 = int(input(\"Masukkan jumlah barang 1: \"))\n",
        "harga1 = int(input(\"Masukkan harga barang 1: \"))\n",
        "jumlah2 = int(input(\"Masukkan jumlah barang 2: \"))\n",
        "harga2 = int(input(\"Masukkan harga barang 2: \"))\n",
        "total_belanja = jumlah1 * harga1 + jumlah2 * harga2\n",
        "print(\"Total belanja: Rp\", total_belanja)"
      ],
      "metadata": {
        "colab": {
          "base_uri": "https://localhost:8080/"
        },
        "id": "te2HMG91GzKp",
        "outputId": "62eec535-247c-4af7-cbc6-c381342e7cbc"
      },
      "execution_count": null,
      "outputs": [
        {
          "output_type": "stream",
          "name": "stdout",
          "text": [
            "Masukkan jumlah barang 1: 3\n",
            "Masukkan harga barang 1: 5000\n",
            "Masukkan jumlah barang 2: 15\n",
            "Masukkan harga barang 2: 2500\n",
            "Total belanja: Rp 52500\n"
          ]
        }
      ]
    },
    {
      "cell_type": "code",
      "source": [
        "#Soal 10: Kelayakan Pinjaan Bank\n",
        "\n",
        "gaji = int(input(\"Masukkan gaji bulanan: \"))\n",
        "ada_utang = input(\"Apakah ada utang? (Ya/Tidak:) \")\n",
        "if gaji > 3000000 and ada_utang == 'tidak':\n",
        "  status_kelayakan = \"Layak\"\n",
        "else:\n",
        "    status_kelayakan = \"Tidak Layak\"\n",
        "    print(\"Status kelayakan:\", status_kelayakan)"
      ],
      "metadata": {
        "colab": {
          "base_uri": "https://localhost:8080/"
        },
        "id": "Vdrdf6y6BqRl",
        "outputId": "2d2085fb-ac12-495e-ebfa-deac6545e127"
      },
      "execution_count": null,
      "outputs": [
        {
          "output_type": "stream",
          "name": "stdout",
          "text": [
            "Masukkan gaji bulanan: 3500000\n",
            "Apakah ada utang? (Ya/Tidak:) Ya\n",
            "Status kelayakan: Tidak Layak\n"
          ]
        }
      ]
    },
    {
      "cell_type": "code",
      "source": [
        "#Soal 18: Urutkan Harga Produk\n",
        "\n",
        "daftar_harga = [20000, 5000, 15000, 10000]\n",
        "daftar_terurut = sorted(daftar_harga)\n",
        "print(\"Daftar harga terurut dari yang termurah ke termahal:\", daftar_terurut)"
      ],
      "metadata": {
        "colab": {
          "base_uri": "https://localhost:8080/"
        },
        "id": "6tHhoqYw6yG2",
        "outputId": "f8ebfaf8-5730-4ae0-8178-2ee257686eeb"
      },
      "execution_count": null,
      "outputs": [
        {
          "output_type": "stream",
          "name": "stdout",
          "text": [
            "Daftar harga terurut dari yang termurah ke termahal: [5000, 10000, 15000, 20000]\n"
          ]
        }
      ]
    },
    {
      "cell_type": "code",
      "source": [
        "#Soal 17: Pencarian Produk\n",
        "\n",
        "daftar_produk = [\"Laptop\", \"Printer\", \"Mouse\", \"Keyboard\"]\n",
        "nama_yang_dicari = input(\"Masukkan nama produk yang dicari: \")\n",
        "if nama_yang_dicari in daftar_produk:\n",
        "  print(\"Produk ditemukan\")\n",
        "else:\n",
        "  print(\"Produk tidak ditemukan\")"
      ],
      "metadata": {
        "colab": {
          "base_uri": "https://localhost:8080/"
        },
        "id": "iiQcmvM58ChE",
        "outputId": "7fc60612-a09f-455a-b1b7-225d4a1ac271"
      },
      "execution_count": null,
      "outputs": [
        {
          "output_type": "stream",
          "name": "stdout",
          "text": [
            "Masukkan nama produk yang dicari: Keyboard\n",
            "Produk ditemukan\n"
          ]
        }
      ]
    },
    {
      "cell_type": "code",
      "source": [
        "#Soal 16: Modul Konversi Mata Uang\n",
        "\n",
        "def konversi_usd_to_idr(usd):\n",
        "  kurs = 15000\n",
        "  idr = usd * 15000\n",
        "  return idr\n",
        "\n",
        "  usd = float(input(\"Masukkan jumlah uang dalam USD: \"))\n",
        "  idr = konversi_usd_to_idr(usd)\n",
        "  print(\"Nilai dalam rupiah: Rp\", idr)"
      ],
      "metadata": {
        "id": "evL_874I9JUZ"
      },
      "execution_count": null,
      "outputs": []
    },
    {
      "cell_type": "code",
      "source": [
        "#Soal 14: Fungsi cek saldo\n",
        "\n",
        "saldo = int(input(\"Masukkan jumlah saldo anda:\"))\n",
        "if saldo > 500000:\n",
        "  massage = \"Saldo cukup\"\n",
        "else:\n",
        "  massage = \"Saldo minim\"\n",
        "print(massage)"
      ],
      "metadata": {
        "colab": {
          "base_uri": "https://localhost:8080/"
        },
        "id": "4CDau9KDn_uK",
        "outputId": "0c497937-8295-4cd8-9418-dfe43d5c8661"
      },
      "execution_count": null,
      "outputs": [
        {
          "output_type": "stream",
          "name": "stdout",
          "text": [
            "Masukkan jumlah saldo anda:350000\n",
            "Saldo minim\n"
          ]
        }
      ]
    },
    {
      "cell_type": "code",
      "source": [
        "#Soal 2: Laporan Penjualan Harian\n",
        "\n",
        "print(\"Halo, Selamat Datang.. Bagaimana kabarmu hari ini?\")\n",
        "print(\"Ini adalah Laporan Penjualan Harian\")"
      ],
      "metadata": {
        "colab": {
          "base_uri": "https://localhost:8080/"
        },
        "id": "c4qYZXVYqgTH",
        "outputId": "a34065b1-c321-4d39-9f98-da8b5c38664b"
      },
      "execution_count": null,
      "outputs": [
        {
          "output_type": "stream",
          "name": "stdout",
          "text": [
            "Halo, Selamat Datang.. Bagaimana kabarmu hari ini?\n",
            "Ini adalah Laporan Penjualan Harian\n"
          ]
        }
      ]
    },
    {
      "cell_type": "code",
      "source": [
        "#Soal 3: Hitung Keuntungan Toko\n",
        "\n",
        "pemasukan = int(input(\"Masukkan total pemasukan: \"))\n",
        "pengeluaran = int(input(\"Masukkan total pengeluaran: \"))\n",
        "keuntungan = pemasukan - pengeluaran\n",
        "\n",
        "if keuntungan > 0:\n",
        "  status = \"Untung\"\n",
        "elif keuntungan == 0:\n",
        "  status = \"Impas\"\n",
        "else:\n",
        "  status = \"Rugi\"\n",
        "\n",
        "print(\"Nilai keuntungan:\", keuntungan)\n",
        "print(\"Status:\", status)"
      ],
      "metadata": {
        "colab": {
          "base_uri": "https://localhost:8080/"
        },
        "id": "Zhn_cmXFrZ80",
        "outputId": "9e5293eb-4733-48ee-d092-f2aa263e5c7f"
      },
      "execution_count": null,
      "outputs": [
        {
          "output_type": "stream",
          "name": "stdout",
          "text": [
            "Masukkan total pemasukan: 5380000\n",
            "Masukkan total pengeluaran: 2100000\n",
            "Nilai keuntungan: 3280000\n",
            "Status: Untung\n"
          ]
        }
      ]
    },
    {
      "cell_type": "code",
      "source": [
        "#Soal 4: Estimasi Waktu Pengiriman\n",
        "\n",
        "jarak = float(input(\"Masukkan jarak dalam km:\"))\n",
        "kecepatan = float(input(\"Masukkan kecepatan dalam km/jam:\"))\n",
        "waktu = jarak / kecepatan\n",
        "print(\"Lama perjalanan:\", waktu, \"jam\")"
      ],
      "metadata": {
        "colab": {
          "base_uri": "https://localhost:8080/"
        },
        "id": "a1zEul_Fra0q",
        "outputId": "07f8c7a2-83ff-4234-fae1-4b5699a59e75"
      },
      "execution_count": null,
      "outputs": [
        {
          "output_type": "stream",
          "name": "stdout",
          "text": [
            "Masukkan jarak dalam km:20\n",
            "Masukkan kecepatan dalam km/jam:60\n",
            "Lama perjalanan: 0.3333333333333333 jam\n"
          ]
        }
      ]
    },
    {
      "cell_type": "code",
      "source": [
        "#Soal 5: Variabel Produk\n",
        "\n",
        "nama_produk = input(\"Masukkan nama produk: \")\n",
        "harga = int(input(\"Masukkan harga satuan: \"))\n",
        "jumlah_stok = int(input(\"Masukkan jumlah stok: \"))\n",
        "print(f\"Nama produk: {nama_produk}\")\n",
        "print(f\"Harga satuan: {harga}\")\n",
        "print(f\"Jumlah stok: {jumlah_stok}\")"
      ],
      "metadata": {
        "colab": {
          "base_uri": "https://localhost:8080/"
        },
        "id": "dARHkfSxvtny",
        "outputId": "279e6ae0-7df4-4dec-a3a3-7c063d3698e4"
      },
      "execution_count": null,
      "outputs": [
        {
          "output_type": "stream",
          "name": "stdout",
          "text": [
            "Masukkan nama produk: Sunlight\n",
            "Masukkan harga satuan: 25000\n",
            "Masukkan jumlah stok: 300\n",
            "Nama produk: Sunlight\n",
            "Harga satuan: 25000\n",
            "Jumlah stok: 300\n"
          ]
        }
      ]
    },
    {
      "cell_type": "code",
      "source": [
        "#Soal 15: Fungsi Bonus Penjualan\n",
        "\n",
        "total_penjualan = float(input(\"Masukkan total penjualan: \"))\n",
        "bonus = 0\n",
        "if total_penjualan > 10000000:\n",
        "  bonus = 0.5*total_penjualan\n",
        "else:\n",
        "  bonus = 0\n",
        "print (\"Nilai bonus: Rp\", bonus)"
      ],
      "metadata": {
        "colab": {
          "base_uri": "https://localhost:8080/"
        },
        "id": "l68n4JEZx3Nv",
        "outputId": "3a325fdb-4632-40dc-934b-82ea2268609c"
      },
      "execution_count": null,
      "outputs": [
        {
          "output_type": "stream",
          "name": "stdout",
          "text": [
            "Masukkan total penjualan: 12800000\n",
            "Nilai bonus: Rp 6400000.0\n"
          ]
        }
      ]
    },
    {
      "cell_type": "code",
      "source": [
        "#Soal 7: Saldo Tabungan\n",
        "\n",
        "saldo_awal = int(input(\"Masukkan saldo awal: \"))\n",
        "pemasukan = int(input(\"Masukkan jumlah pemasukan: \"))\n",
        "pengeluaran = int(input(\"Masukkan total pengeluaran: \"))\n",
        "saldo_akhir = saldo_awal + pemasukan - pengeluaran\n",
        "print(\"Saldo akhir: Rp\", saldo_akhir)"
      ],
      "metadata": {
        "colab": {
          "base_uri": "https://localhost:8080/"
        },
        "id": "XvkLZiOnzSfv",
        "outputId": "5018c428-d817-4c34-e2e4-9efeb55ab96b"
      },
      "execution_count": null,
      "outputs": [
        {
          "output_type": "stream",
          "name": "stdout",
          "text": [
            "Masukkan saldo awal: 350000\n",
            "Masukkan jumlah pemasukan: 2000000\n",
            "Masukkan total pengeluaran: 1750000\n",
            "Saldo akhir: Rp 600000\n"
          ]
        }
      ]
    },
    {
      "cell_type": "code",
      "source": [
        "#Soal 8: Cek Stok Barang\n",
        "\n",
        "jumlah_stok = int(input(\"Masukkan jumlah stok: \"))\n",
        "if jumlah_stok < 10:\n",
        "  status = \"Hampir Habis\"\n",
        "elif jumlah_stok >= 10:\n",
        "  status = \"Aman\"\n",
        "print(\"Pesan status stok:\", status)"
      ],
      "metadata": {
        "colab": {
          "base_uri": "https://localhost:8080/"
        },
        "id": "nL6K9hD90f66",
        "outputId": "de37bba4-cb42-4995-830e-082787127fd0"
      },
      "execution_count": null,
      "outputs": [
        {
          "output_type": "stream",
          "name": "stdout",
          "text": [
            "Masukkan jumlah stok: 9\n",
            "Pesan status stok: Hampir Habis\n"
          ]
        }
      ]
    },
    {
      "cell_type": "code",
      "source": [
        "#Soal 20: Urutkan Laba Bulanan\n",
        "\n",
        "daftar_laba = [5_000_000, 8_000_000, 3_000_000, 10_000_000]\n",
        "daftar_laba_urut = sorted(daftar_laba)\n",
        "print(\"Daftar laba urut dari terkecil:\", daftar_laba_urut)"
      ],
      "metadata": {
        "colab": {
          "base_uri": "https://localhost:8080/"
        },
        "id": "iO0_QXBY3FiM",
        "outputId": "8bd9f5b4-c866-4a91-840a-96e708cacdbf"
      },
      "execution_count": null,
      "outputs": [
        {
          "output_type": "stream",
          "name": "stdout",
          "text": [
            "Daftar laba urut dari terkecil: [3000000, 5000000, 8000000, 10000000]\n"
          ]
        }
      ]
    },
    {
      "cell_type": "code",
      "source": [
        "#Soal 19: Pencarian NIP Karyawan\n",
        "\n",
        "daftar_nip = [101,102,103,104,105]\n",
        "nip_dicari = int(input(\"Masukkan NIP yang dicari: \"))\n",
        "if nip_dicari in daftar_nip:\n",
        "  print(\"NIP ditemukan\")\n",
        "else:\n",
        "  print(\"NIP tidak ditemukan\")"
      ],
      "metadata": {
        "colab": {
          "base_uri": "https://localhost:8080/"
        },
        "id": "JA6KKrWl5uKI",
        "outputId": "deb6be16-8e21-4ef0-f069-07864f835d36"
      },
      "execution_count": null,
      "outputs": [
        {
          "output_type": "stream",
          "name": "stdout",
          "text": [
            "Masukkan NIP yang dicari: 101\n",
            "NIP ditemukan\n"
          ]
        }
      ]
    }
  ]
}